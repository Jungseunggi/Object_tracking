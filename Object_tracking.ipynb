{
  "nbformat": 4,
  "nbformat_minor": 0,
  "metadata": {
    "colab": {
      "provenance": [],
      "authorship_tag": "ABX9TyNKJRSOkRr4JkBoboQKRavc",
      "include_colab_link": true
    },
    "kernelspec": {
      "name": "python3",
      "display_name": "Python 3"
    },
    "language_info": {
      "name": "python"
    }
  },
  "cells": [
    {
      "cell_type": "markdown",
      "metadata": {
        "id": "view-in-github",
        "colab_type": "text"
      },
      "source": [
        "<a href=\"https://colab.research.google.com/github/Jungseunggi/Object_tracking/blob/main/Object_tracking.ipynb\" target=\"_parent\"><img src=\"https://colab.research.google.com/assets/colab-badge.svg\" alt=\"Open In Colab\"/></a>"
      ]
    },
    {
      "cell_type": "markdown",
      "source": [
        "# Object Tracking"
      ],
      "metadata": {
        "id": "AAQaI358mC3y"
      }
    },
    {
      "cell_type": "markdown",
      "source": [
        "### 1. Method"
      ],
      "metadata": {
        "id": "1uLv_5H6mLCS"
      }
    },
    {
      "cell_type": "markdown",
      "source": [
        "- Input Video \n",
        "\n",
        "- Object Detection\n",
        "\n",
        "- Object Representation\n",
        "\n",
        "- Object Tracking \n",
        "\n",
        "- Tracked objects\n"
      ],
      "metadata": {
        "id": "F5twA5lUmRzw"
      }
    },
    {
      "cell_type": "code",
      "execution_count": null,
      "metadata": {
        "id": "GS0ZV_QAl6FJ"
      },
      "outputs": [],
      "source": []
    }
  ]
}